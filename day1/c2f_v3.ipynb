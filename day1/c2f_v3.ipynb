{
 "cells": [
  {
   "cell_type": "code",
   "execution_count": 3,
   "metadata": {},
   "outputs": [
    {
     "name": "stdout",
     "output_type": "stream",
     "text": [
      "This is a C' to F' converter.\n"
     ]
    }
   ],
   "source": [
    "print(\"This is a C' to F' converter.\")"
   ]
  },
  {
   "cell_type": "code",
   "execution_count": 4,
   "metadata": {},
   "outputs": [
    {
     "name": "stdout",
     "output_type": "stream",
     "text": [
      "Please enter a temperature, in C\n",
      "--> asdf\n"
     ]
    }
   ],
   "source": [
    "temp_in_celsius = input(\"Please enter a temperature, in C\\n--> \")"
   ]
  },
  {
   "cell_type": "code",
   "execution_count": 5,
   "metadata": {},
   "outputs": [
    {
     "name": "stdout",
     "output_type": "stream",
     "text": [
      "INVALID INPUT\n",
      "Please enter a temperature, in C\n",
      "--> 567asdf\n",
      "INVALID INPUT\n",
      "Please enter a temperature, in C\n",
      "--> asd\n",
      "INVALID INPUT\n",
      "Please enter a temperature, in C\n",
      "--> 19\n",
      "The temperature in Fahrenheit is: 66.20\n"
     ]
    }
   ],
   "source": [
    "while not temp_in_celsius.isnumeric():\n",
    "    temp_in_celsius = input(\"INVALID INPUT\\nPlease enter a temperature, in C\\n--> \")\n",
    "\n",
    "temp_in_fahrenheit = float(temp_in_celsius) *9/5 + 32\n",
    "print(\"The temperature in Fahrenheit is: {:.2f}\".format(temp_in_fahrenheit))"
   ]
  },
  {
   "cell_type": "code",
   "execution_count": null,
   "metadata": {},
   "outputs": [],
   "source": []
  }
 ],
 "metadata": {
  "kernelspec": {
   "display_name": "Python 3",
   "language": "python",
   "name": "python3"
  },
  "language_info": {
   "codemirror_mode": {
    "name": "ipython",
    "version": 3
   },
   "file_extension": ".py",
   "mimetype": "text/x-python",
   "name": "python",
   "nbconvert_exporter": "python",
   "pygments_lexer": "ipython3",
   "version": "3.7.4"
  }
 },
 "nbformat": 4,
 "nbformat_minor": 2
}
