{
 "cells": [
  {
   "cell_type": "code",
   "execution_count": 2,
   "metadata": {},
   "outputs": [
    {
     "name": "stdout",
     "output_type": "stream",
     "text": [
      "Writing sampletext.txt\n"
     ]
    }
   ],
   "source": [
    "%%writefile sampletext.txt\n",
    "first line of text\n",
    "  another line\n",
    "some more text"
   ]
  },
  {
   "cell_type": "code",
   "execution_count": 7,
   "metadata": {},
   "outputs": [],
   "source": [
    "infile_path = 'sampletext.txt'\n",
    "outfile_path = 'sampletext_NEW.txt'\n",
    "\n",
    "with open(outfile_path,'w') as outfile:\n",
    "    pass\n",
    "# this will overwrite any existing file named outfile_path with a blank file\n",
    "\n",
    "with open(infile_path) as infile:\n",
    "    for i,line in enumerate(infile):\n",
    "        with open(outfile_path,'a') as outfile:\n",
    "            print(i+1,end=' ',file=outfile)\n",
    "            print(line,end='',file=outfile)"
   ]
  },
  {
   "cell_type": "markdown",
   "metadata": {},
   "source": [
    "## Class Exercise\n",
    "### Classes/OOP\n",
    "\n",
    "Create a class definition that reads a text file file, and stores the contents as a list of strings as an instance attribute. \n",
    "The class constructor should take in the name/path of the text file."
   ]
  },
  {
   "cell_type": "code",
   "execution_count": 43,
   "metadata": {},
   "outputs": [],
   "source": [
    "class ReadTextFile:\n",
    "    def __init__(self,filename):\n",
    "        self.filename = filename\n",
    "        self.data = list()\n",
    "    def read_file(self):\n",
    "        with open(self.filename) as fp:\n",
    "            self.data = fp.readlines()\n",
    "    def read_file_withoutNLchars(self,filename=None):\n",
    "        if filename is None:\n",
    "            filename = self.filename\n",
    "        with open(filename) as fp:\n",
    "            self.data = [line.strip() for line in fp]\n",
    "    def get_data(self):\n",
    "        return self.data\n",
    "\n"
   ]
  },
  {
   "cell_type": "code",
   "execution_count": 25,
   "metadata": {},
   "outputs": [],
   "source": [
    "FileReader = ReadTextFile('sampletext.txt')\n",
    "FileReader.read_file()"
   ]
  },
  {
   "cell_type": "code",
   "execution_count": 26,
   "metadata": {},
   "outputs": [
    {
     "data": {
      "text/plain": [
       "['first line of text\\n', '  another line\\n', 'some more text\\n']"
      ]
     },
     "execution_count": 26,
     "metadata": {},
     "output_type": "execute_result"
    }
   ],
   "source": [
    "FileReader.data"
   ]
  },
  {
   "cell_type": "code",
   "execution_count": 31,
   "metadata": {},
   "outputs": [],
   "source": [
    "FileReader.read_file_withoutNLchars('sampletext_NEW.txt')"
   ]
  },
  {
   "cell_type": "code",
   "execution_count": 32,
   "metadata": {},
   "outputs": [
    {
     "data": {
      "text/plain": [
       "['1 first line of text', '2   another line', '3 some more text']"
      ]
     },
     "execution_count": 32,
     "metadata": {},
     "output_type": "execute_result"
    }
   ],
   "source": [
    "FileReader.data"
   ]
  },
  {
   "cell_type": "code",
   "execution_count": 33,
   "metadata": {},
   "outputs": [],
   "source": [
    "FileReader.read_file_withoutNLchars()"
   ]
  },
  {
   "cell_type": "code",
   "execution_count": 34,
   "metadata": {},
   "outputs": [
    {
     "data": {
      "text/plain": [
       "['first line of text', 'another line', 'some more text']"
      ]
     },
     "execution_count": 34,
     "metadata": {},
     "output_type": "execute_result"
    }
   ],
   "source": [
    "FileReader.data"
   ]
  },
  {
   "cell_type": "code",
   "execution_count": null,
   "metadata": {},
   "outputs": [],
   "source": []
  }
 ],
 "metadata": {
  "kernelspec": {
   "display_name": "Python 3",
   "language": "python",
   "name": "python3"
  },
  "language_info": {
   "codemirror_mode": {
    "name": "ipython",
    "version": 3
   },
   "file_extension": ".py",
   "mimetype": "text/x-python",
   "name": "python",
   "nbconvert_exporter": "python",
   "pygments_lexer": "ipython3",
   "version": "3.7.4"
  }
 },
 "nbformat": 4,
 "nbformat_minor": 2
}
