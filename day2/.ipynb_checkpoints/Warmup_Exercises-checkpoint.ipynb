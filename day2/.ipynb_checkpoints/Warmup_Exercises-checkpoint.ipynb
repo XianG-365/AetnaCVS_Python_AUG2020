{
 "cells": [
  {
   "cell_type": "markdown",
   "metadata": {},
   "source": [
    "# Warm-up Exercises\n",
    "Day 2"
   ]
  },
  {
   "cell_type": "markdown",
   "metadata": {},
   "source": [
    "## Problem 1\n",
    "\n",
    "Write a program which will find all numbers between 2000 and 3200 (both inclusive), which are divisible by 7 but are not a multiple of 5. Store the answers in a list. Print the list."
   ]
  },
  {
   "cell_type": "code",
   "execution_count": 3,
   "metadata": {},
   "outputs": [
    {
     "name": "stdout",
     "output_type": "stream",
     "text": [
      "[2002, 2009, 2016, 2023, 2037, 2044, 2051, 2058, 2072, 2079, 2086, 2093, 2107, 2114, 2121, 2128, 2142, 2149, 2156, 2163, 2177, 2184, 2191, 2198, 2212, 2219, 2226, 2233, 2247, 2254, 2261, 2268, 2282, 2289, 2296, 2303, 2317, 2324, 2331, 2338, 2352, 2359, 2366, 2373, 2387, 2394, 2401, 2408, 2422, 2429, 2436, 2443, 2457, 2464, 2471, 2478, 2492, 2499, 2506, 2513, 2527, 2534, 2541, 2548, 2562, 2569, 2576, 2583, 2597, 2604, 2611, 2618, 2632, 2639, 2646, 2653, 2667, 2674, 2681, 2688, 2702, 2709, 2716, 2723, 2737, 2744, 2751, 2758, 2772, 2779, 2786, 2793, 2807, 2814, 2821, 2828, 2842, 2849, 2856, 2863, 2877, 2884, 2891, 2898, 2912, 2919, 2926, 2933, 2947, 2954, 2961, 2968, 2982, 2989, 2996, 3003, 3017, 3024, 3031, 3038, 3052, 3059, 3066, 3073, 3087, 3094, 3101, 3108, 3122, 3129, 3136, 3143, 3157, 3164, 3171, 3178, 3192, 3199]\n"
     ]
    }
   ],
   "source": [
    "results = list()\n",
    "for i in range(2000,3201):\n",
    "    if not (i%7):\n",
    "        if (i%5):\n",
    "            results.append(i)\n",
    "print(results)"
   ]
  },
  {
   "cell_type": "markdown",
   "metadata": {},
   "source": [
    "## Problem 2\n",
    "\n",
    "Write a program that takes a number as an input, computes the factorial of the number enterred, and then prints the result. You must use a loop. You may not use any libraries or math functions that calculate factorials.\n",
    "\n",
    "(Hint: a factorial is just the product of all numbers between 1 and the number. So, 5! = 5 * 4 * 3 * 2 * 1.)"
   ]
  },
  {
   "cell_type": "code",
   "execution_count": 5,
   "metadata": {},
   "outputs": [
    {
     "name": "stdout",
     "output_type": "stream",
     "text": [
      "Please enter 5\n",
      "The result is 120\n"
     ]
    }
   ],
   "source": [
    "my_int = input(\"Please enter \")\n",
    "while not my_int.isdigit():\n",
    "    my_int = input(\"INVALID INPUT.\\nPlease enter \")\n",
    "my_int = int(my_int)\n",
    "\n",
    "result = 1\n",
    "if my_int > 1:\n",
    "    for i in range(1,my_int+1):\n",
    "        result *= i\n",
    "print(f'The result is {result:.0f}')"
   ]
  },
  {
   "cell_type": "markdown",
   "metadata": {},
   "source": [
    "## Problem 3\n",
    "\n",
    "Write a program that accepts an input, and then calculate the number of letters and digits in the entered string. For example, this input: hello world! 123 should return this output: LETTERS 10 DIGITS 3"
   ]
  },
  {
   "cell_type": "code",
   "execution_count": 6,
   "metadata": {},
   "outputs": [
    {
     "name": "stdout",
     "output_type": "stream",
     "text": [
      "Enter a sequence of characters: asdf123&*(\n",
      "Letters: 4\n",
      " Digits: 3\n"
     ]
    }
   ],
   "source": [
    "letters = 0\n",
    "digits = 0\n",
    "valid_letters = list('abcdefghijklmnopqrstuvwxyz')\n",
    "valid_digits = list('0123456789')\n",
    "input_string = input(\"Enter a sequence of characters: \")\n",
    "\n",
    "for letter in input_string.lower():\n",
    "    if letter in valid_letters:\n",
    "        letters += 1\n",
    "    elif letter in valid_digits:\n",
    "        digits += 1\n",
    "print(f'Letters: {letters}\\n Digits: {digits}')\n"
   ]
  },
  {
   "cell_type": "markdown",
   "metadata": {},
   "source": [
    "## Functions Version\n",
    "Modify the answer in Problem 3 to be a function. The input should be a string, and the output should be another string with the results."
   ]
  },
  {
   "cell_type": "code",
   "execution_count": null,
   "metadata": {},
   "outputs": [],
   "source": [
    "def count_letters_numbers():\n",
    "    \"\"\"docstring optional for this exercise\"\"\"\n",
    "    return"
   ]
  },
  {
   "cell_type": "markdown",
   "metadata": {},
   "source": [
    "## Solution"
   ]
  },
  {
   "cell_type": "code",
   "execution_count": 16,
   "metadata": {},
   "outputs": [],
   "source": [
    "def count_letters_numbers(input_string):\n",
    "    \"\"\"input: input_string: any string of letters or numbers\n",
    "    output: string containing the counts of the numbers and letters in input_string\"\"\"\n",
    "\n",
    "\n",
    "    letters = 0\n",
    "    digits = 0\n",
    "    valid_letters = list('abcdefghijklmnopqrstuvwxyz')\n",
    "    valid_digits = list('0123456789')\n",
    "\n",
    "\n",
    "    for letter in input_string.lower():\n",
    "        if letter in valid_letters:\n",
    "            letters += 1\n",
    "        elif letter in valid_digits:\n",
    "            digits += 1\n",
    "    return f'Letters: {letters}\\n Digits: {digits}'\n",
    "\n"
   ]
  },
  {
   "cell_type": "code",
   "execution_count": 17,
   "metadata": {},
   "outputs": [
    {
     "name": "stdout",
     "output_type": "stream",
     "text": [
      "Enter a sequence of characters: asdf123%^&*\n",
      "Letters: 4\n",
      " Digits: 3\n"
     ]
    }
   ],
   "source": [
    "#how we will use the function\n",
    "input_string = input(\"Enter a sequence of characters: \")\n",
    "results = count_letters_numbers(input_string)\n",
    "print(results)"
   ]
  },
  {
   "cell_type": "code",
   "execution_count": 18,
   "metadata": {},
   "outputs": [
    {
     "data": {
      "text/plain": [
       "'Letters: 4\\n Digits: 4'"
      ]
     },
     "execution_count": 18,
     "metadata": {},
     "output_type": "execute_result"
    }
   ],
   "source": [
    "count_letters_numbers('asdf1234&*()')"
   ]
  },
  {
   "cell_type": "code",
   "execution_count": 19,
   "metadata": {},
   "outputs": [
    {
     "ename": "AttributeError",
     "evalue": "'int' object has no attribute 'lower'",
     "output_type": "error",
     "traceback": [
      "\u001b[0;31m---------------------------------------------------------------------------\u001b[0m",
      "\u001b[0;31mAttributeError\u001b[0m                            Traceback (most recent call last)",
      "\u001b[0;32m<ipython-input-19-7d6a970737ab>\u001b[0m in \u001b[0;36m<module>\u001b[0;34m\u001b[0m\n\u001b[0;32m----> 1\u001b[0;31m \u001b[0mcount_letters_numbers\u001b[0m\u001b[0;34m(\u001b[0m\u001b[0;36m123\u001b[0m\u001b[0;34m)\u001b[0m\u001b[0;34m\u001b[0m\u001b[0;34m\u001b[0m\u001b[0m\n\u001b[0m",
      "\u001b[0;32m<ipython-input-16-5a85d04a1629>\u001b[0m in \u001b[0;36mcount_letters_numbers\u001b[0;34m(input_string)\u001b[0m\n\u001b[1;32m     10\u001b[0m \u001b[0;34m\u001b[0m\u001b[0m\n\u001b[1;32m     11\u001b[0m \u001b[0;34m\u001b[0m\u001b[0m\n\u001b[0;32m---> 12\u001b[0;31m     \u001b[0;32mfor\u001b[0m \u001b[0mletter\u001b[0m \u001b[0;32min\u001b[0m \u001b[0minput_string\u001b[0m\u001b[0;34m.\u001b[0m\u001b[0mlower\u001b[0m\u001b[0;34m(\u001b[0m\u001b[0;34m)\u001b[0m\u001b[0;34m:\u001b[0m\u001b[0;34m\u001b[0m\u001b[0;34m\u001b[0m\u001b[0m\n\u001b[0m\u001b[1;32m     13\u001b[0m         \u001b[0;32mif\u001b[0m \u001b[0mletter\u001b[0m \u001b[0;32min\u001b[0m \u001b[0mvalid_letters\u001b[0m\u001b[0;34m:\u001b[0m\u001b[0;34m\u001b[0m\u001b[0;34m\u001b[0m\u001b[0m\n\u001b[1;32m     14\u001b[0m             \u001b[0mletters\u001b[0m \u001b[0;34m+=\u001b[0m \u001b[0;36m1\u001b[0m\u001b[0;34m\u001b[0m\u001b[0;34m\u001b[0m\u001b[0m\n",
      "\u001b[0;31mAttributeError\u001b[0m: 'int' object has no attribute 'lower'"
     ]
    }
   ],
   "source": [
    "count_letters_numbers(123)"
   ]
  },
  {
   "cell_type": "markdown",
   "metadata": {},
   "source": [
    "## more to come after lunch!"
   ]
  },
  {
   "cell_type": "code",
   "execution_count": null,
   "metadata": {},
   "outputs": [],
   "source": []
  }
 ],
 "metadata": {
  "kernelspec": {
   "display_name": "Python 3",
   "language": "python",
   "name": "python3"
  },
  "language_info": {
   "codemirror_mode": {
    "name": "ipython",
    "version": 3
   },
   "file_extension": ".py",
   "mimetype": "text/x-python",
   "name": "python",
   "nbconvert_exporter": "python",
   "pygments_lexer": "ipython3",
   "version": "3.7.4"
  }
 },
 "nbformat": 4,
 "nbformat_minor": 2
}
